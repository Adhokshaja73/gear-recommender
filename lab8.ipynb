{
 "cells": [
  {
   "cell_type": "code",
   "execution_count": 4,
   "metadata": {},
   "outputs": [
    {
     "name": "stdout",
     "output_type": "stream",
     "text": [
      "Input matrix is: \n",
      "1 2 3 4 5 \n",
      "6 7 8 9 10 \n",
      "11 12 13 14 15 \n",
      "16 17 18 19 20 \n",
      "21 22 23 24 25 \n",
      "Kernel is: \n",
      "1 2 3 \n",
      "4 5 6 \n",
      "7 8 9 \n",
      "Convolution with stride being 1 is: \n",
      "411 456 501 \n",
      "636 681 726 \n",
      "861 906 951 \n",
      "Convolution with stride being 2 is: \n",
      "411 501 540 \n",
      "861 951 990 \n",
      "996 1086 1125 \n",
      "[[ 1  2  3  4  5]\n",
      " [ 6  7  8  9 10]\n",
      " [11 12 13 14 15]\n",
      " [16 17 18 19 20]\n",
      " [21 22 23 24 25]]\n"
     ]
    }
   ],
   "source": [
    "#Take an input matrix with size 5x5 and a kernel with size 3x3, perform convolution with stride being 1 and 2.\n",
    "\n",
    "import numpy as np\n",
    "\n",
    "\n",
    "# take input matrix with size 5x5\n",
    "input_matrix = np.array([[1,2,3,4,5],[6,7,8,9,10],[11,12,13,14,15],[16,17,18,19,20],[21,22,23,24,25]])\n",
    "print(\"Input matrix is: \")\n",
    "for i in range(5):\n",
    "    for j in range(5):\n",
    "        print(input_matrix[i][j], end = \" \")\n",
    "    print()\n",
    "\n",
    "# take kernel with size 3x3\n",
    "kernel = np.array([[1,2,3],[4,5,6],[7,8,9]])\n",
    "print(\"Kernel is: \")\n",
    "for i in range(3):\n",
    "    for j in range(3):\n",
    "        print(kernel[i][j], end = \" \")\n",
    "    print()\n",
    "\n",
    "# perform convolution with stride being 1\n",
    "print(\"Convolution with stride being 1 is: \")\n",
    "for i in range(3):\n",
    "    for j in range(3):\n",
    "        print(sum(sum(input_matrix[i:i+3,j:j+3]*kernel)), end = \" \")\n",
    "    print()\n",
    "\n",
    "# perform convolution with stride being 2\n",
    "print(\"Convolution with stride being 2 is: \")\n",
    "for i in range(0,5,2):\n",
    "    for j in range(0,5,2):\n",
    "        print(sum(sum(input_matrix[i:i+3,j:j+3]*kernel)), end = \" \")\n",
    "    print()\n",
    "# save the result to a numpy array\n",
    "np.save('result.npy', input_matrix)\n",
    "# load the numpy array\n",
    "result = np.load('result.npy')\n",
    "print(result)\n",
    "\n"
   ]
  },
  {
   "cell_type": "code",
   "execution_count": 5,
   "metadata": {},
   "outputs": [
    {
     "name": "stdout",
     "output_type": "stream",
     "text": [
      "Max pooling is: \n"
     ]
    },
    {
     "ename": "ValueError",
     "evalue": "The truth value of an array with more than one element is ambiguous. Use a.any() or a.all()",
     "output_type": "error",
     "traceback": [
      "\u001b[0;31m---------------------------------------------------------------------------\u001b[0m",
      "\u001b[0;31mValueError\u001b[0m                                Traceback (most recent call last)",
      "\u001b[1;32m/home/joseph/Desktop/gear research/tri 5/temp/gear-recommender/lab8.ipynb Cell 2\u001b[0m in \u001b[0;36m<cell line: 10>\u001b[0;34m()\u001b[0m\n\u001b[1;32m      <a href='vscode-notebook-cell:/home/joseph/Desktop/gear%20research/tri%205/temp/gear-recommender/lab8.ipynb#W1sZmlsZQ%3D%3D?line=7'>8</a>\u001b[0m             \u001b[39mprint\u001b[39m(\u001b[39mmax\u001b[39m(\u001b[39mmax\u001b[39m(result[i:i\u001b[39m+\u001b[39m\u001b[39m2\u001b[39m,j:j\u001b[39m+\u001b[39m\u001b[39m2\u001b[39m])), end \u001b[39m=\u001b[39m \u001b[39m\"\u001b[39m\u001b[39m \u001b[39m\u001b[39m\"\u001b[39m)\n\u001b[1;32m      <a href='vscode-notebook-cell:/home/joseph/Desktop/gear%20research/tri%205/temp/gear-recommender/lab8.ipynb#W1sZmlsZQ%3D%3D?line=8'>9</a>\u001b[0m         \u001b[39mprint\u001b[39m()\n\u001b[0;32m---> <a href='vscode-notebook-cell:/home/joseph/Desktop/gear%20research/tri%205/temp/gear-recommender/lab8.ipynb#W1sZmlsZQ%3D%3D?line=9'>10</a>\u001b[0m max_pooling(result)\n",
      "\u001b[1;32m/home/joseph/Desktop/gear research/tri 5/temp/gear-recommender/lab8.ipynb Cell 2\u001b[0m in \u001b[0;36mmax_pooling\u001b[0;34m(result)\u001b[0m\n\u001b[1;32m      <a href='vscode-notebook-cell:/home/joseph/Desktop/gear%20research/tri%205/temp/gear-recommender/lab8.ipynb#W1sZmlsZQ%3D%3D?line=5'>6</a>\u001b[0m \u001b[39mfor\u001b[39;00m i \u001b[39min\u001b[39;00m \u001b[39mrange\u001b[39m(\u001b[39m0\u001b[39m,\u001b[39m3\u001b[39m,\u001b[39m2\u001b[39m):\n\u001b[1;32m      <a href='vscode-notebook-cell:/home/joseph/Desktop/gear%20research/tri%205/temp/gear-recommender/lab8.ipynb#W1sZmlsZQ%3D%3D?line=6'>7</a>\u001b[0m     \u001b[39mfor\u001b[39;00m j \u001b[39min\u001b[39;00m \u001b[39mrange\u001b[39m(\u001b[39m0\u001b[39m,\u001b[39m3\u001b[39m,\u001b[39m2\u001b[39m):\n\u001b[0;32m----> <a href='vscode-notebook-cell:/home/joseph/Desktop/gear%20research/tri%205/temp/gear-recommender/lab8.ipynb#W1sZmlsZQ%3D%3D?line=7'>8</a>\u001b[0m         \u001b[39mprint\u001b[39m(\u001b[39mmax\u001b[39m(\u001b[39mmax\u001b[39;49m(result[i:i\u001b[39m+\u001b[39;49m\u001b[39m2\u001b[39;49m,j:j\u001b[39m+\u001b[39;49m\u001b[39m2\u001b[39;49m])), end \u001b[39m=\u001b[39m \u001b[39m\"\u001b[39m\u001b[39m \u001b[39m\u001b[39m\"\u001b[39m)\n\u001b[1;32m      <a href='vscode-notebook-cell:/home/joseph/Desktop/gear%20research/tri%205/temp/gear-recommender/lab8.ipynb#W1sZmlsZQ%3D%3D?line=8'>9</a>\u001b[0m     \u001b[39mprint\u001b[39m()\n",
      "\u001b[0;31mValueError\u001b[0m: The truth value of an array with more than one element is ambiguous. Use a.any() or a.all()"
     ]
    }
   ],
   "source": [
    "# Apply max-pooling, average-pooling and sum-pooling to the results from above convolutions\n",
    "\n",
    "def max_pooling(result):\n",
    "    # max pooling\n",
    "    print(\"Max pooling is: \")\n",
    "    for i in range(0,3,2):\n",
    "        for j in range(0,3,2):\n",
    "            print(max(max(result[i:i+2,j:j+2])), end = \" \")\n",
    "        print()\n",
    "max_pooling(result)"
   ]
  },
  {
   "cell_type": "code",
   "execution_count": null,
   "metadata": {},
   "outputs": [],
   "source": []
  }
 ],
 "metadata": {
  "kernelspec": {
   "display_name": "Python 3",
   "language": "python",
   "name": "python3"
  },
  "language_info": {
   "codemirror_mode": {
    "name": "ipython",
    "version": 3
   },
   "file_extension": ".py",
   "mimetype": "text/x-python",
   "name": "python",
   "nbconvert_exporter": "python",
   "pygments_lexer": "ipython3",
   "version": "3.10.7"
  },
  "orig_nbformat": 4,
  "vscode": {
   "interpreter": {
    "hash": "916dbcbb3f70747c44a77c7bcd40155683ae19c65e1c03b4aa3499c5328201f1"
   }
  }
 },
 "nbformat": 4,
 "nbformat_minor": 2
}
